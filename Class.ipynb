{
  "nbformat": 4,
  "nbformat_minor": 0,
  "metadata": {
    "colab": {
      "provenance": []
    },
    "kernelspec": {
      "name": "python3",
      "display_name": "Python 3"
    },
    "language_info": {
      "name": "python"
    },
    "accelerator": "GPU",
    "gpuClass": "standard"
  },
  "cells": [
    {
      "cell_type": "markdown",
      "source": [
        "# Предобработка датасета"
      ],
      "metadata": {
        "id": "I31kWh48UigG"
      }
    },
    {
      "cell_type": "markdown",
      "source": [
        "Подключаем диск"
      ],
      "metadata": {
        "id": "ReIBQFxiTPcr"
      }
    },
    {
      "cell_type": "code",
      "execution_count": null,
      "metadata": {
        "colab": {
          "base_uri": "https://localhost:8080/"
        },
        "id": "jRBCcsAlXdAb",
        "outputId": "7c19267a-56e9-4d10-95cd-9e44d81320a8"
      },
      "outputs": [
        {
          "output_type": "stream",
          "name": "stdout",
          "text": [
            "Drive already mounted at /content/drive; to attempt to forcibly remount, call drive.mount(\"/content/drive\", force_remount=True).\n"
          ]
        }
      ],
      "source": [
        "from google.colab import drive\n",
        "drive.mount('/content/drive')"
      ]
    },
    {
      "cell_type": "code",
      "source": [
        "import pandas as pd\n",
        "import numpy as np\n",
        "import matplotlib.pyplot as plt\n",
        "from sklearn.preprocessing import MinMaxScaler\n",
        "from sklearn.model_selection import train_test_split\n",
        "from keras.models import Sequential\n",
        "from keras.layers import Dense\n",
        "from sklearn.metrics import classification_report, mean_squared_error\n",
        "from sklearn.impute import KNNImputer"
      ],
      "metadata": {
        "id": "7oukVsXOXj8_"
      },
      "execution_count": null,
      "outputs": []
    },
    {
      "cell_type": "markdown",
      "source": [
        "Считываем датасет"
      ],
      "metadata": {
        "id": "8YmlXmj3TW9s"
      }
    },
    {
      "cell_type": "code",
      "source": [
        "result_slice=pd.read_csv('/content/drive/MyDrive/result_slice (3).csv')"
      ],
      "metadata": {
        "id": "P0kwwg_LXmIH"
      },
      "execution_count": null,
      "outputs": []
    },
    {
      "cell_type": "code",
      "source": [
        "result_slice = result_slice.dropna(axis='columns', how='all', inplace=False)\n",
        "result_slice = result_slice.drop('Unnamed: 0', axis=1)\n",
        "\n",
        "result_slice_nan = pd.DataFrame(round((result_slice.isnull().mean() * 100), 2))\n",
        "result_slice = result_slice.drop(list(result_slice_nan[result_slice_nan[0] > 40].index), axis=1)\n",
        "\n",
        "#Сформируем столбец таргета\n",
        "result_slice= result_slice.reindex(columns=list(result_slice.drop('EF_b', axis=1).append(pd.DataFrame(result_slice['EF_b']))))\n",
        "result_slice['EF_b_target'] = (result_slice['EF_b'] > 2).astype('float64')"
      ],
      "metadata": {
        "id": "EuXk_IIsXrO_"
      },
      "execution_count": null,
      "outputs": []
    },
    {
      "cell_type": "code",
      "source": [
        "result_slice=result_slice.dropna()"
      ],
      "metadata": {
        "id": "JVwXesumbwKG"
      },
      "execution_count": null,
      "outputs": []
    },
    {
      "cell_type": "markdown",
      "source": [
        "# Нейросеть для классификации"
      ],
      "metadata": {
        "id": "RHi2sGHpOKwz"
      }
    },
    {
      "cell_type": "markdown",
      "source": [
        "Таргет и предикторы"
      ],
      "metadata": {
        "id": "5hi5TTRQXvtP"
      }
    },
    {
      "cell_type": "code",
      "source": [
        "X = result_slice.drop(['DEPT', 'well', 'FZ', 'EF_b', 'EF_b_target'], axis=1)\n",
        "y = result_slice['EF_b_target']"
      ],
      "metadata": {
        "id": "pK0jCtgLXvI_"
      },
      "execution_count": null,
      "outputs": []
    },
    {
      "cell_type": "code",
      "source": [
        "from sklearn.preprocessing import StandardScaler\n",
        "stdScaler = StandardScaler()\n",
        "X = stdScaler.fit_transform(X)"
      ],
      "metadata": {
        "id": "qjb4OCURZpQM"
      },
      "execution_count": null,
      "outputs": []
    },
    {
      "cell_type": "code",
      "source": [
        "from sklearn.model_selection import train_test_split\n",
        "X_all_train, X_test, y_all_train, y_test = train_test_split(X, y, test_size=0.15, random_state=15)\n",
        "\n",
        "X_train, X_val, y_train, y_val = train_test_split(X_all_train, y_all_train, test_size=0.2,random_state=15)"
      ],
      "metadata": {
        "id": "rg2wiDNRZquu"
      },
      "execution_count": null,
      "outputs": []
    },
    {
      "cell_type": "code",
      "source": [
        "from sklearn.neural_network import MLPClassifier"
      ],
      "metadata": {
        "id": "vGmqcHCfZx0f"
      },
      "execution_count": null,
      "outputs": []
    },
    {
      "cell_type": "code",
      "source": [
        "batch_size = 20\n",
        "max_iter = 1000"
      ],
      "metadata": {
        "id": "ib3Lpfs3Z0bH"
      },
      "execution_count": null,
      "outputs": []
    },
    {
      "cell_type": "code",
      "source": [
        "model = MLPClassifier(hidden_layer_sizes=(1,2), activation='tanh', early_stopping=True, max_iter=max_iter, batch_size=batch_size)\n",
        "hist_cl = model.fit(X_train, y_train)"
      ],
      "metadata": {
        "id": "zk4Ldy-lZst-"
      },
      "execution_count": null,
      "outputs": []
    },
    {
      "cell_type": "code",
      "source": [
        "y_pred = model.predict(X_test)\n",
        "\n",
        "from sklearn.metrics import classification_report\n",
        "print(classification_report(y_true=y_test, y_pred=y_pred))"
      ],
      "metadata": {
        "colab": {
          "base_uri": "https://localhost:8080/"
        },
        "id": "tSOxzhkHZule",
        "outputId": "c9764ddf-7048-4ca1-81e7-48e5433092e2"
      },
      "execution_count": null,
      "outputs": [
        {
          "output_type": "stream",
          "name": "stdout",
          "text": [
            "              precision    recall  f1-score   support\n",
            "\n",
            "         0.0       0.85      0.90      0.87       580\n",
            "         1.0       0.92      0.88      0.90       742\n",
            "\n",
            "    accuracy                           0.89      1322\n",
            "   macro avg       0.88      0.89      0.89      1322\n",
            "weighted avg       0.89      0.89      0.89      1322\n",
            "\n"
          ]
        }
      ]
    }
  ]
}