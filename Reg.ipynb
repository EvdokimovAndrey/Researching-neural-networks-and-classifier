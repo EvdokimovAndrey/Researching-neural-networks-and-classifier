{
  "nbformat": 4,
  "nbformat_minor": 0,
  "metadata": {
    "colab": {
      "provenance": []
    },
    "kernelspec": {
      "name": "python3",
      "display_name": "Python 3"
    },
    "language_info": {
      "name": "python"
    },
    "gpuClass": "standard"
  },
  "cells": [
    {
      "cell_type": "markdown",
      "source": [
        "# Предобработка датасета"
      ],
      "metadata": {
        "id": "I31kWh48UigG"
      }
    },
    {
      "cell_type": "markdown",
      "source": [
        "Подключаем диск"
      ],
      "metadata": {
        "id": "ReIBQFxiTPcr"
      }
    },
    {
      "cell_type": "code",
      "source": [
        "from google.colab import drive\n",
        "drive.mount('/content/drive')"
      ],
      "metadata": {
        "colab": {
          "base_uri": "https://localhost:8080/"
        },
        "id": "UWds3Ki3TCe0",
        "outputId": "63586f7e-37d6-4da3-f7d7-684066308ee5"
      },
      "execution_count": null,
      "outputs": [
        {
          "output_type": "stream",
          "name": "stdout",
          "text": [
            "Mounted at /content/drive\n"
          ]
        }
      ]
    },
    {
      "cell_type": "markdown",
      "source": [
        "Импортируем библиотеки"
      ],
      "metadata": {
        "id": "Qx5ofJhnTTHM"
      }
    },
    {
      "cell_type": "code",
      "execution_count": null,
      "metadata": {
        "id": "mYyy21z3S2OL"
      },
      "outputs": [],
      "source": [
        "import pandas as pd\n",
        "import numpy as np\n",
        "import matplotlib.pyplot as plt\n",
        "from sklearn.preprocessing import MinMaxScaler\n",
        "from sklearn.model_selection import train_test_split\n",
        "from keras.models import Sequential\n",
        "from keras.layers import Dense\n",
        "from sklearn.metrics import classification_report, mean_squared_error\n",
        "from sklearn.impute import KNNImputer"
      ]
    },
    {
      "cell_type": "markdown",
      "source": [
        "Считываем датасет"
      ],
      "metadata": {
        "id": "8YmlXmj3TW9s"
      }
    },
    {
      "cell_type": "code",
      "source": [
        "frac = pd.read_csv('/content/drive/MyDrive/frac_new_copy.csv', encoding = \"windows-1251\", sep=\";\")"
      ],
      "metadata": {
        "id": "pGniQkfpTNvc"
      },
      "execution_count": null,
      "outputs": []
    },
    {
      "cell_type": "markdown",
      "source": [
        "Выберем фичи, оказывабщие влияние на дебит "
      ],
      "metadata": {
        "id": "IfBwTthUdfHi"
      }
    },
    {
      "cell_type": "code",
      "source": [
        "frac = frac[[\n",
        "    'year', 'h',\n",
        "    'porosity', 'permeability_avg',\n",
        "    'init_oil_saturation_factor', 'aps_avg',\n",
        "    'sandiness', 'recoverables', 'remaining_recoverables',\n",
        "    'base_qliq1', 'base_qliq3', 'cumulative_fluid_production',\n",
        "    'bottomhole_pressure6', 'kprod_current',\n",
        "    'previous_grp_result_qliq3', 'rate_liq_avg_1000',\n",
        "    'liq_sum_1000', 'receptivity_avg_nagn1',\n",
        "    'bottomhole_pressure_nagn1', 'result_qoil3',\n",
        "    'kprod_current', 'bottomhole_pressure6'\n",
        "]]"
      ],
      "metadata": {
        "id": "ESe95BWPdYga"
      },
      "execution_count": null,
      "outputs": []
    },
    {
      "cell_type": "markdown",
      "source": [
        "Выведем таблицу с процентом пропуском в каждом столбце"
      ],
      "metadata": {
        "id": "HaLL8CyPeFxr"
      }
    },
    {
      "cell_type": "code",
      "source": [
        "count_nan = pd.DataFrame(round((frac.isnull().mean() * 100), 2))\n",
        "count_nan[count_nan[0] > 0].sort_values(by=0)"
      ],
      "metadata": {
        "colab": {
          "base_uri": "https://localhost:8080/",
          "height": 457
        },
        "id": "gDMFoPDRdpfL",
        "outputId": "6ff0772e-2a26-4f9c-ff5a-0728aa5af1aa"
      },
      "execution_count": null,
      "outputs": [
        {
          "output_type": "execute_result",
          "data": {
            "text/plain": [
              "                                0\n",
              "h                            0.07\n",
              "sandiness                    0.07\n",
              "result_qoil3                 0.07\n",
              "init_oil_saturation_factor   1.49\n",
              "porosity                     1.56\n",
              "permeability_avg             1.56\n",
              "aps_avg                      5.43\n",
              "receptivity_avg_nagn1        8.62\n",
              "bottomhole_pressure6        52.99\n",
              "bottomhole_pressure6        52.99\n",
              "kprod_current               55.56\n",
              "kprod_current               55.56\n",
              "bottomhole_pressure_nagn1   72.86"
            ],
            "text/html": [
              "\n",
              "  <div id=\"df-e04b9329-7397-4e7c-b123-77a82fd996ba\">\n",
              "    <div class=\"colab-df-container\">\n",
              "      <div>\n",
              "<style scoped>\n",
              "    .dataframe tbody tr th:only-of-type {\n",
              "        vertical-align: middle;\n",
              "    }\n",
              "\n",
              "    .dataframe tbody tr th {\n",
              "        vertical-align: top;\n",
              "    }\n",
              "\n",
              "    .dataframe thead th {\n",
              "        text-align: right;\n",
              "    }\n",
              "</style>\n",
              "<table border=\"1\" class=\"dataframe\">\n",
              "  <thead>\n",
              "    <tr style=\"text-align: right;\">\n",
              "      <th></th>\n",
              "      <th>0</th>\n",
              "    </tr>\n",
              "  </thead>\n",
              "  <tbody>\n",
              "    <tr>\n",
              "      <th>h</th>\n",
              "      <td>0.07</td>\n",
              "    </tr>\n",
              "    <tr>\n",
              "      <th>sandiness</th>\n",
              "      <td>0.07</td>\n",
              "    </tr>\n",
              "    <tr>\n",
              "      <th>result_qoil3</th>\n",
              "      <td>0.07</td>\n",
              "    </tr>\n",
              "    <tr>\n",
              "      <th>init_oil_saturation_factor</th>\n",
              "      <td>1.49</td>\n",
              "    </tr>\n",
              "    <tr>\n",
              "      <th>porosity</th>\n",
              "      <td>1.56</td>\n",
              "    </tr>\n",
              "    <tr>\n",
              "      <th>permeability_avg</th>\n",
              "      <td>1.56</td>\n",
              "    </tr>\n",
              "    <tr>\n",
              "      <th>aps_avg</th>\n",
              "      <td>5.43</td>\n",
              "    </tr>\n",
              "    <tr>\n",
              "      <th>receptivity_avg_nagn1</th>\n",
              "      <td>8.62</td>\n",
              "    </tr>\n",
              "    <tr>\n",
              "      <th>bottomhole_pressure6</th>\n",
              "      <td>52.99</td>\n",
              "    </tr>\n",
              "    <tr>\n",
              "      <th>bottomhole_pressure6</th>\n",
              "      <td>52.99</td>\n",
              "    </tr>\n",
              "    <tr>\n",
              "      <th>kprod_current</th>\n",
              "      <td>55.56</td>\n",
              "    </tr>\n",
              "    <tr>\n",
              "      <th>kprod_current</th>\n",
              "      <td>55.56</td>\n",
              "    </tr>\n",
              "    <tr>\n",
              "      <th>bottomhole_pressure_nagn1</th>\n",
              "      <td>72.86</td>\n",
              "    </tr>\n",
              "  </tbody>\n",
              "</table>\n",
              "</div>\n",
              "      <button class=\"colab-df-convert\" onclick=\"convertToInteractive('df-e04b9329-7397-4e7c-b123-77a82fd996ba')\"\n",
              "              title=\"Convert this dataframe to an interactive table.\"\n",
              "              style=\"display:none;\">\n",
              "        \n",
              "  <svg xmlns=\"http://www.w3.org/2000/svg\" height=\"24px\"viewBox=\"0 0 24 24\"\n",
              "       width=\"24px\">\n",
              "    <path d=\"M0 0h24v24H0V0z\" fill=\"none\"/>\n",
              "    <path d=\"M18.56 5.44l.94 2.06.94-2.06 2.06-.94-2.06-.94-.94-2.06-.94 2.06-2.06.94zm-11 1L8.5 8.5l.94-2.06 2.06-.94-2.06-.94L8.5 2.5l-.94 2.06-2.06.94zm10 10l.94 2.06.94-2.06 2.06-.94-2.06-.94-.94-2.06-.94 2.06-2.06.94z\"/><path d=\"M17.41 7.96l-1.37-1.37c-.4-.4-.92-.59-1.43-.59-.52 0-1.04.2-1.43.59L10.3 9.45l-7.72 7.72c-.78.78-.78 2.05 0 2.83L4 21.41c.39.39.9.59 1.41.59.51 0 1.02-.2 1.41-.59l7.78-7.78 2.81-2.81c.8-.78.8-2.07 0-2.86zM5.41 20L4 18.59l7.72-7.72 1.47 1.35L5.41 20z\"/>\n",
              "  </svg>\n",
              "      </button>\n",
              "      \n",
              "  <style>\n",
              "    .colab-df-container {\n",
              "      display:flex;\n",
              "      flex-wrap:wrap;\n",
              "      gap: 12px;\n",
              "    }\n",
              "\n",
              "    .colab-df-convert {\n",
              "      background-color: #E8F0FE;\n",
              "      border: none;\n",
              "      border-radius: 50%;\n",
              "      cursor: pointer;\n",
              "      display: none;\n",
              "      fill: #1967D2;\n",
              "      height: 32px;\n",
              "      padding: 0 0 0 0;\n",
              "      width: 32px;\n",
              "    }\n",
              "\n",
              "    .colab-df-convert:hover {\n",
              "      background-color: #E2EBFA;\n",
              "      box-shadow: 0px 1px 2px rgba(60, 64, 67, 0.3), 0px 1px 3px 1px rgba(60, 64, 67, 0.15);\n",
              "      fill: #174EA6;\n",
              "    }\n",
              "\n",
              "    [theme=dark] .colab-df-convert {\n",
              "      background-color: #3B4455;\n",
              "      fill: #D2E3FC;\n",
              "    }\n",
              "\n",
              "    [theme=dark] .colab-df-convert:hover {\n",
              "      background-color: #434B5C;\n",
              "      box-shadow: 0px 1px 3px 1px rgba(0, 0, 0, 0.15);\n",
              "      filter: drop-shadow(0px 1px 2px rgba(0, 0, 0, 0.3));\n",
              "      fill: #FFFFFF;\n",
              "    }\n",
              "  </style>\n",
              "\n",
              "      <script>\n",
              "        const buttonEl =\n",
              "          document.querySelector('#df-e04b9329-7397-4e7c-b123-77a82fd996ba button.colab-df-convert');\n",
              "        buttonEl.style.display =\n",
              "          google.colab.kernel.accessAllowed ? 'block' : 'none';\n",
              "\n",
              "        async function convertToInteractive(key) {\n",
              "          const element = document.querySelector('#df-e04b9329-7397-4e7c-b123-77a82fd996ba');\n",
              "          const dataTable =\n",
              "            await google.colab.kernel.invokeFunction('convertToInteractive',\n",
              "                                                     [key], {});\n",
              "          if (!dataTable) return;\n",
              "\n",
              "          const docLinkHtml = 'Like what you see? Visit the ' +\n",
              "            '<a target=\"_blank\" href=https://colab.research.google.com/notebooks/data_table.ipynb>data table notebook</a>'\n",
              "            + ' to learn more about interactive tables.';\n",
              "          element.innerHTML = '';\n",
              "          dataTable['output_type'] = 'display_data';\n",
              "          await google.colab.output.renderOutput(dataTable, element);\n",
              "          const docLink = document.createElement('div');\n",
              "          docLink.innerHTML = docLinkHtml;\n",
              "          element.appendChild(docLink);\n",
              "        }\n",
              "      </script>\n",
              "    </div>\n",
              "  </div>\n",
              "  "
            ]
          },
          "metadata": {},
          "execution_count": 6
        }
      ]
    },
    {
      "cell_type": "markdown",
      "source": [
        "Удалим столбцы с процентом пропусков больше 50%"
      ],
      "metadata": {
        "id": "n0F0jsijePmC"
      }
    },
    {
      "cell_type": "code",
      "source": [
        "frac = frac.drop(['bottomhole_pressure6', 'kprod_current', 'bottomhole_pressure_nagn1', 'kprod_current', 'bottomhole_pressure6', ], axis=1)"
      ],
      "metadata": {
        "id": "17T_5hHgeMTy"
      },
      "execution_count": null,
      "outputs": []
    },
    {
      "cell_type": "markdown",
      "source": [
        "Заполним пропуски ближайшими соседями "
      ],
      "metadata": {
        "id": "szlNTlBuewwi"
      }
    },
    {
      "cell_type": "code",
      "source": [
        "imputer = KNNImputer(n_neighbors=5)\n",
        "frac=pd.DataFrame(imputer.fit_transform(frac), columns = frac.columns)"
      ],
      "metadata": {
        "id": "zFImTfzAejK7"
      },
      "execution_count": null,
      "outputs": []
    },
    {
      "cell_type": "markdown",
      "source": [
        "# Нейросеть для регрессии"
      ],
      "metadata": {
        "id": "GQG9upMgJRVE"
      }
    },
    {
      "cell_type": "markdown",
      "source": [
        "Таргет и предикторы"
      ],
      "metadata": {
        "id": "1gmDy4qJK4j0"
      }
    },
    {
      "cell_type": "code",
      "source": [
        "X = frac.drop(['result_qoil3', 'year'], axis=1)\n",
        "y = frac['result_qoil3']"
      ],
      "metadata": {
        "id": "4oGWMPL2KTS0"
      },
      "execution_count": null,
      "outputs": []
    },
    {
      "cell_type": "markdown",
      "source": [
        "Насплитим тренировочную, тестовую и вылидационные выборки"
      ],
      "metadata": {
        "id": "QIw6rmMhK810"
      }
    },
    {
      "cell_type": "code",
      "source": [
        "X_train, X_test, y_train, y_test = train_test_split(X, y, test_size=0.2, random_state=15)\n",
        "X_train, X_val, y_train, y_val = train_test_split(X_train, y_train,test_size = 0.2, random_state = 15)"
      ],
      "metadata": {
        "id": "Aq1HFHFVKePU"
      },
      "execution_count": null,
      "outputs": []
    },
    {
      "cell_type": "markdown",
      "source": [
        "Последовательная нейросеть из двух слоёв"
      ],
      "metadata": {
        "id": "JaRdtNF7LHTc"
      }
    },
    {
      "cell_type": "code",
      "source": [
        "regres_model = Sequential()\n",
        "regres_model.add(Dense(20,activation='softmax',input_dim=X_train.shape[1]))\n",
        "regres_model.add(Dense(1, activation='sigmoid'))\n",
        "regres_model.compile(optimizer='adam', loss='mse', metrics='mae')"
      ],
      "metadata": {
        "id": "riUpVxtLKqpU"
      },
      "execution_count": null,
      "outputs": []
    },
    {
      "cell_type": "markdown",
      "source": [
        "Размеры пакетов и количество эпох"
      ],
      "metadata": {
        "id": "IpMx91cCLU3E"
      }
    },
    {
      "cell_type": "code",
      "source": [
        "batch_size = 40\n",
        "epochs = 100"
      ],
      "metadata": {
        "id": "p69d19eqKyj8"
      },
      "execution_count": null,
      "outputs": []
    },
    {
      "cell_type": "markdown",
      "source": [
        "Обучим нейросеть"
      ],
      "metadata": {
        "id": "sBgwcQWvLaGM"
      }
    },
    {
      "cell_type": "code",
      "source": [
        "regres_model_hist = regres_model.fit(X_train, y_train, batch_size=batch_size, epochs=epochs, validation_data=(X_val, y_val))"
      ],
      "metadata": {
        "colab": {
          "base_uri": "https://localhost:8080/"
        },
        "id": "XTF1Tp9jKtzc",
        "outputId": "2b9fcee7-d68c-4a5b-b1b5-7072e03d08b4"
      },
      "execution_count": null,
      "outputs": [
        {
          "output_type": "stream",
          "name": "stdout",
          "text": [
            "Epoch 1/100\n",
            "24/24 [==============================] - 1s 8ms/step - loss: 0.1611 - mae: 0.3897 - val_loss: 0.1617 - val_mae: 0.3925\n",
            "Epoch 2/100\n",
            "24/24 [==============================] - 0s 4ms/step - loss: 0.1474 - mae: 0.3721 - val_loss: 0.1480 - val_mae: 0.3749\n",
            "Epoch 3/100\n",
            "24/24 [==============================] - 0s 4ms/step - loss: 0.1348 - mae: 0.3552 - val_loss: 0.1355 - val_mae: 0.3582\n",
            "Epoch 4/100\n",
            "24/24 [==============================] - 0s 3ms/step - loss: 0.1234 - mae: 0.3391 - val_loss: 0.1241 - val_mae: 0.3422\n",
            "Epoch 5/100\n",
            "24/24 [==============================] - 0s 4ms/step - loss: 0.1129 - mae: 0.3237 - val_loss: 0.1138 - val_mae: 0.3270\n",
            "Epoch 6/100\n",
            "24/24 [==============================] - 0s 4ms/step - loss: 0.1034 - mae: 0.3091 - val_loss: 0.1043 - val_mae: 0.3124\n",
            "Epoch 7/100\n",
            "24/24 [==============================] - 0s 5ms/step - loss: 0.0947 - mae: 0.2951 - val_loss: 0.0955 - val_mae: 0.2985\n",
            "Epoch 8/100\n",
            "24/24 [==============================] - 0s 4ms/step - loss: 0.0867 - mae: 0.2815 - val_loss: 0.0874 - val_mae: 0.2850\n",
            "Epoch 9/100\n",
            "24/24 [==============================] - 0s 4ms/step - loss: 0.0793 - mae: 0.2686 - val_loss: 0.0800 - val_mae: 0.2721\n",
            "Epoch 10/100\n",
            "24/24 [==============================] - 0s 4ms/step - loss: 0.0726 - mae: 0.2563 - val_loss: 0.0732 - val_mae: 0.2598\n",
            "Epoch 11/100\n",
            "24/24 [==============================] - 0s 4ms/step - loss: 0.0665 - mae: 0.2445 - val_loss: 0.0670 - val_mae: 0.2480\n",
            "Epoch 12/100\n",
            "24/24 [==============================] - 0s 4ms/step - loss: 0.0609 - mae: 0.2333 - val_loss: 0.0614 - val_mae: 0.2368\n",
            "Epoch 13/100\n",
            "24/24 [==============================] - 0s 4ms/step - loss: 0.0559 - mae: 0.2227 - val_loss: 0.0563 - val_mae: 0.2264\n",
            "Epoch 14/100\n",
            "24/24 [==============================] - 0s 4ms/step - loss: 0.0513 - mae: 0.2128 - val_loss: 0.0518 - val_mae: 0.2166\n",
            "Epoch 15/100\n",
            "24/24 [==============================] - 0s 4ms/step - loss: 0.0472 - mae: 0.2034 - val_loss: 0.0476 - val_mae: 0.2073\n",
            "Epoch 16/100\n",
            "24/24 [==============================] - 0s 4ms/step - loss: 0.0435 - mae: 0.1947 - val_loss: 0.0438 - val_mae: 0.1986\n",
            "Epoch 17/100\n",
            "24/24 [==============================] - 0s 4ms/step - loss: 0.0402 - mae: 0.1866 - val_loss: 0.0405 - val_mae: 0.1905\n",
            "Epoch 18/100\n",
            "24/24 [==============================] - 0s 4ms/step - loss: 0.0373 - mae: 0.1790 - val_loss: 0.0375 - val_mae: 0.1830\n",
            "Epoch 19/100\n",
            "24/24 [==============================] - 0s 5ms/step - loss: 0.0347 - mae: 0.1720 - val_loss: 0.0348 - val_mae: 0.1760\n",
            "Epoch 20/100\n",
            "24/24 [==============================] - 0s 5ms/step - loss: 0.0323 - mae: 0.1655 - val_loss: 0.0324 - val_mae: 0.1696\n",
            "Epoch 21/100\n",
            "24/24 [==============================] - 0s 4ms/step - loss: 0.0302 - mae: 0.1597 - val_loss: 0.0302 - val_mae: 0.1635\n",
            "Epoch 22/100\n",
            "24/24 [==============================] - 0s 4ms/step - loss: 0.0283 - mae: 0.1541 - val_loss: 0.0283 - val_mae: 0.1580\n",
            "Epoch 23/100\n",
            "24/24 [==============================] - 0s 4ms/step - loss: 0.0267 - mae: 0.1490 - val_loss: 0.0266 - val_mae: 0.1528\n",
            "Epoch 24/100\n",
            "24/24 [==============================] - 0s 4ms/step - loss: 0.0252 - mae: 0.1444 - val_loss: 0.0250 - val_mae: 0.1480\n",
            "Epoch 25/100\n",
            "24/24 [==============================] - 0s 4ms/step - loss: 0.0238 - mae: 0.1401 - val_loss: 0.0236 - val_mae: 0.1436\n",
            "Epoch 26/100\n",
            "24/24 [==============================] - 0s 4ms/step - loss: 0.0226 - mae: 0.1361 - val_loss: 0.0223 - val_mae: 0.1393\n",
            "Epoch 27/100\n",
            "24/24 [==============================] - 0s 4ms/step - loss: 0.0215 - mae: 0.1323 - val_loss: 0.0212 - val_mae: 0.1354\n",
            "Epoch 28/100\n",
            "24/24 [==============================] - 0s 4ms/step - loss: 0.0206 - mae: 0.1289 - val_loss: 0.0201 - val_mae: 0.1317\n",
            "Epoch 29/100\n",
            "24/24 [==============================] - 0s 4ms/step - loss: 0.0197 - mae: 0.1257 - val_loss: 0.0191 - val_mae: 0.1282\n",
            "Epoch 30/100\n",
            "24/24 [==============================] - 0s 4ms/step - loss: 0.0189 - mae: 0.1227 - val_loss: 0.0183 - val_mae: 0.1249\n",
            "Epoch 31/100\n",
            "24/24 [==============================] - 0s 4ms/step - loss: 0.0181 - mae: 0.1198 - val_loss: 0.0175 - val_mae: 0.1218\n",
            "Epoch 32/100\n",
            "24/24 [==============================] - 0s 4ms/step - loss: 0.0175 - mae: 0.1172 - val_loss: 0.0167 - val_mae: 0.1187\n",
            "Epoch 33/100\n",
            "24/24 [==============================] - 0s 4ms/step - loss: 0.0169 - mae: 0.1148 - val_loss: 0.0161 - val_mae: 0.1158\n",
            "Epoch 34/100\n",
            "24/24 [==============================] - 0s 4ms/step - loss: 0.0163 - mae: 0.1124 - val_loss: 0.0155 - val_mae: 0.1132\n",
            "Epoch 35/100\n",
            "24/24 [==============================] - 0s 4ms/step - loss: 0.0158 - mae: 0.1103 - val_loss: 0.0149 - val_mae: 0.1107\n",
            "Epoch 36/100\n",
            "24/24 [==============================] - 0s 4ms/step - loss: 0.0154 - mae: 0.1083 - val_loss: 0.0144 - val_mae: 0.1083\n",
            "Epoch 37/100\n",
            "24/24 [==============================] - 0s 5ms/step - loss: 0.0150 - mae: 0.1064 - val_loss: 0.0139 - val_mae: 0.1060\n",
            "Epoch 38/100\n",
            "24/24 [==============================] - 0s 4ms/step - loss: 0.0146 - mae: 0.1046 - val_loss: 0.0135 - val_mae: 0.1039\n",
            "Epoch 39/100\n",
            "24/24 [==============================] - 0s 4ms/step - loss: 0.0143 - mae: 0.1029 - val_loss: 0.0131 - val_mae: 0.1020\n",
            "Epoch 40/100\n",
            "24/24 [==============================] - 0s 4ms/step - loss: 0.0140 - mae: 0.1014 - val_loss: 0.0128 - val_mae: 0.1001\n",
            "Epoch 41/100\n",
            "24/24 [==============================] - 0s 4ms/step - loss: 0.0137 - mae: 0.0999 - val_loss: 0.0124 - val_mae: 0.0984\n",
            "Epoch 42/100\n",
            "24/24 [==============================] - 0s 4ms/step - loss: 0.0134 - mae: 0.0986 - val_loss: 0.0121 - val_mae: 0.0967\n",
            "Epoch 43/100\n",
            "24/24 [==============================] - 0s 4ms/step - loss: 0.0132 - mae: 0.0972 - val_loss: 0.0119 - val_mae: 0.0951\n",
            "Epoch 44/100\n",
            "24/24 [==============================] - 0s 4ms/step - loss: 0.0130 - mae: 0.0961 - val_loss: 0.0116 - val_mae: 0.0937\n",
            "Epoch 45/100\n",
            "24/24 [==============================] - 0s 4ms/step - loss: 0.0128 - mae: 0.0949 - val_loss: 0.0114 - val_mae: 0.0922\n",
            "Epoch 46/100\n",
            "24/24 [==============================] - 0s 4ms/step - loss: 0.0126 - mae: 0.0938 - val_loss: 0.0112 - val_mae: 0.0909\n",
            "Epoch 47/100\n",
            "24/24 [==============================] - 0s 4ms/step - loss: 0.0125 - mae: 0.0928 - val_loss: 0.0110 - val_mae: 0.0896\n",
            "Epoch 48/100\n",
            "24/24 [==============================] - 0s 4ms/step - loss: 0.0123 - mae: 0.0919 - val_loss: 0.0108 - val_mae: 0.0884\n",
            "Epoch 49/100\n",
            "24/24 [==============================] - 0s 4ms/step - loss: 0.0122 - mae: 0.0910 - val_loss: 0.0106 - val_mae: 0.0872\n",
            "Epoch 50/100\n",
            "24/24 [==============================] - 0s 4ms/step - loss: 0.0121 - mae: 0.0901 - val_loss: 0.0104 - val_mae: 0.0861\n",
            "Epoch 51/100\n",
            "24/24 [==============================] - 0s 3ms/step - loss: 0.0120 - mae: 0.0893 - val_loss: 0.0103 - val_mae: 0.0851\n",
            "Epoch 52/100\n",
            "24/24 [==============================] - 0s 3ms/step - loss: 0.0119 - mae: 0.0886 - val_loss: 0.0102 - val_mae: 0.0841\n",
            "Epoch 53/100\n",
            "24/24 [==============================] - 0s 4ms/step - loss: 0.0118 - mae: 0.0879 - val_loss: 0.0101 - val_mae: 0.0831\n",
            "Epoch 54/100\n",
            "24/24 [==============================] - 0s 4ms/step - loss: 0.0117 - mae: 0.0872 - val_loss: 0.0099 - val_mae: 0.0823\n",
            "Epoch 55/100\n",
            "24/24 [==============================] - 0s 4ms/step - loss: 0.0116 - mae: 0.0866 - val_loss: 0.0098 - val_mae: 0.0815\n",
            "Epoch 56/100\n",
            "24/24 [==============================] - 0s 3ms/step - loss: 0.0116 - mae: 0.0860 - val_loss: 0.0098 - val_mae: 0.0807\n",
            "Epoch 57/100\n",
            "24/24 [==============================] - 0s 4ms/step - loss: 0.0115 - mae: 0.0855 - val_loss: 0.0097 - val_mae: 0.0799\n",
            "Epoch 58/100\n",
            "24/24 [==============================] - 0s 4ms/step - loss: 0.0115 - mae: 0.0849 - val_loss: 0.0096 - val_mae: 0.0792\n",
            "Epoch 59/100\n",
            "24/24 [==============================] - 0s 4ms/step - loss: 0.0114 - mae: 0.0844 - val_loss: 0.0095 - val_mae: 0.0785\n",
            "Epoch 60/100\n",
            "24/24 [==============================] - 0s 4ms/step - loss: 0.0114 - mae: 0.0840 - val_loss: 0.0094 - val_mae: 0.0778\n",
            "Epoch 61/100\n",
            "24/24 [==============================] - 0s 4ms/step - loss: 0.0113 - mae: 0.0835 - val_loss: 0.0094 - val_mae: 0.0772\n",
            "Epoch 62/100\n",
            "24/24 [==============================] - 0s 4ms/step - loss: 0.0113 - mae: 0.0831 - val_loss: 0.0093 - val_mae: 0.0766\n",
            "Epoch 63/100\n",
            "24/24 [==============================] - 0s 4ms/step - loss: 0.0112 - mae: 0.0827 - val_loss: 0.0092 - val_mae: 0.0761\n",
            "Epoch 64/100\n",
            "24/24 [==============================] - 0s 3ms/step - loss: 0.0112 - mae: 0.0823 - val_loss: 0.0092 - val_mae: 0.0755\n",
            "Epoch 65/100\n",
            "24/24 [==============================] - 0s 4ms/step - loss: 0.0112 - mae: 0.0820 - val_loss: 0.0091 - val_mae: 0.0751\n",
            "Epoch 66/100\n",
            "24/24 [==============================] - 0s 4ms/step - loss: 0.0111 - mae: 0.0817 - val_loss: 0.0091 - val_mae: 0.0746\n",
            "Epoch 67/100\n",
            "24/24 [==============================] - 0s 4ms/step - loss: 0.0111 - mae: 0.0813 - val_loss: 0.0091 - val_mae: 0.0742\n",
            "Epoch 68/100\n",
            "24/24 [==============================] - 0s 4ms/step - loss: 0.0111 - mae: 0.0810 - val_loss: 0.0090 - val_mae: 0.0738\n",
            "Epoch 69/100\n",
            "24/24 [==============================] - 0s 4ms/step - loss: 0.0111 - mae: 0.0808 - val_loss: 0.0090 - val_mae: 0.0734\n",
            "Epoch 70/100\n",
            "24/24 [==============================] - 0s 4ms/step - loss: 0.0110 - mae: 0.0805 - val_loss: 0.0089 - val_mae: 0.0730\n",
            "Epoch 71/100\n",
            "24/24 [==============================] - 0s 4ms/step - loss: 0.0110 - mae: 0.0802 - val_loss: 0.0089 - val_mae: 0.0727\n",
            "Epoch 72/100\n",
            "24/24 [==============================] - 0s 4ms/step - loss: 0.0110 - mae: 0.0800 - val_loss: 0.0089 - val_mae: 0.0724\n",
            "Epoch 73/100\n",
            "24/24 [==============================] - 0s 4ms/step - loss: 0.0110 - mae: 0.0798 - val_loss: 0.0088 - val_mae: 0.0721\n",
            "Epoch 74/100\n",
            "24/24 [==============================] - 0s 4ms/step - loss: 0.0110 - mae: 0.0795 - val_loss: 0.0088 - val_mae: 0.0718\n",
            "Epoch 75/100\n",
            "24/24 [==============================] - 0s 4ms/step - loss: 0.0110 - mae: 0.0793 - val_loss: 0.0088 - val_mae: 0.0716\n",
            "Epoch 76/100\n",
            "24/24 [==============================] - 0s 4ms/step - loss: 0.0109 - mae: 0.0791 - val_loss: 0.0088 - val_mae: 0.0712\n",
            "Epoch 77/100\n",
            "24/24 [==============================] - 0s 4ms/step - loss: 0.0109 - mae: 0.0789 - val_loss: 0.0087 - val_mae: 0.0710\n",
            "Epoch 78/100\n",
            "24/24 [==============================] - 0s 5ms/step - loss: 0.0109 - mae: 0.0788 - val_loss: 0.0087 - val_mae: 0.0708\n",
            "Epoch 79/100\n",
            "24/24 [==============================] - 0s 4ms/step - loss: 0.0109 - mae: 0.0786 - val_loss: 0.0087 - val_mae: 0.0706\n",
            "Epoch 80/100\n",
            "24/24 [==============================] - 0s 4ms/step - loss: 0.0109 - mae: 0.0784 - val_loss: 0.0087 - val_mae: 0.0704\n",
            "Epoch 81/100\n",
            "24/24 [==============================] - 0s 4ms/step - loss: 0.0109 - mae: 0.0783 - val_loss: 0.0086 - val_mae: 0.0702\n",
            "Epoch 82/100\n",
            "24/24 [==============================] - 0s 4ms/step - loss: 0.0108 - mae: 0.0781 - val_loss: 0.0086 - val_mae: 0.0700\n",
            "Epoch 83/100\n",
            "24/24 [==============================] - 0s 4ms/step - loss: 0.0108 - mae: 0.0780 - val_loss: 0.0086 - val_mae: 0.0698\n",
            "Epoch 84/100\n",
            "24/24 [==============================] - 0s 4ms/step - loss: 0.0108 - mae: 0.0778 - val_loss: 0.0086 - val_mae: 0.0696\n",
            "Epoch 85/100\n",
            "24/24 [==============================] - 0s 4ms/step - loss: 0.0108 - mae: 0.0777 - val_loss: 0.0086 - val_mae: 0.0695\n",
            "Epoch 86/100\n",
            "24/24 [==============================] - 0s 4ms/step - loss: 0.0108 - mae: 0.0776 - val_loss: 0.0085 - val_mae: 0.0693\n",
            "Epoch 87/100\n",
            "24/24 [==============================] - 0s 4ms/step - loss: 0.0108 - mae: 0.0775 - val_loss: 0.0085 - val_mae: 0.0692\n",
            "Epoch 88/100\n",
            "24/24 [==============================] - 0s 4ms/step - loss: 0.0107 - mae: 0.0773 - val_loss: 0.0085 - val_mae: 0.0691\n",
            "Epoch 89/100\n",
            "24/24 [==============================] - 0s 4ms/step - loss: 0.0107 - mae: 0.0772 - val_loss: 0.0085 - val_mae: 0.0689\n",
            "Epoch 90/100\n",
            "24/24 [==============================] - 0s 4ms/step - loss: 0.0107 - mae: 0.0771 - val_loss: 0.0085 - val_mae: 0.0687\n",
            "Epoch 91/100\n",
            "24/24 [==============================] - 0s 4ms/step - loss: 0.0107 - mae: 0.0770 - val_loss: 0.0084 - val_mae: 0.0686\n",
            "Epoch 92/100\n",
            "24/24 [==============================] - 0s 4ms/step - loss: 0.0107 - mae: 0.0769 - val_loss: 0.0084 - val_mae: 0.0686\n",
            "Epoch 93/100\n",
            "24/24 [==============================] - 0s 4ms/step - loss: 0.0106 - mae: 0.0768 - val_loss: 0.0084 - val_mae: 0.0685\n",
            "Epoch 94/100\n",
            "24/24 [==============================] - 0s 4ms/step - loss: 0.0106 - mae: 0.0767 - val_loss: 0.0084 - val_mae: 0.0684\n",
            "Epoch 95/100\n",
            "24/24 [==============================] - 0s 4ms/step - loss: 0.0106 - mae: 0.0766 - val_loss: 0.0084 - val_mae: 0.0683\n",
            "Epoch 96/100\n",
            "24/24 [==============================] - 0s 4ms/step - loss: 0.0106 - mae: 0.0765 - val_loss: 0.0083 - val_mae: 0.0682\n",
            "Epoch 97/100\n",
            "24/24 [==============================] - 0s 4ms/step - loss: 0.0106 - mae: 0.0764 - val_loss: 0.0083 - val_mae: 0.0681\n",
            "Epoch 98/100\n",
            "24/24 [==============================] - 0s 4ms/step - loss: 0.0105 - mae: 0.0763 - val_loss: 0.0083 - val_mae: 0.0680\n",
            "Epoch 99/100\n",
            "24/24 [==============================] - 0s 4ms/step - loss: 0.0105 - mae: 0.0762 - val_loss: 0.0083 - val_mae: 0.0679\n",
            "Epoch 100/100\n",
            "24/24 [==============================] - 0s 4ms/step - loss: 0.0105 - mae: 0.0761 - val_loss: 0.0083 - val_mae: 0.0678\n"
          ]
        }
      ]
    },
    {
      "cell_type": "markdown",
      "source": [
        "Проверим на тестовой выборке и выведем критерий MSE"
      ],
      "metadata": {
        "id": "Ofo26GtSLsKM"
      }
    },
    {
      "cell_type": "code",
      "source": [
        "y_pred = regres_model.predict(X_test)\n",
        "mse = mean_squared_error(y_test, y_pred)\n",
        "\n",
        "print(\"MSE: %f\" % (mse))"
      ],
      "metadata": {
        "colab": {
          "base_uri": "https://localhost:8080/"
        },
        "id": "NH8522kbKwN8",
        "outputId": "ba93ae3d-0280-499d-9147-fe1826c022bd"
      },
      "execution_count": null,
      "outputs": [
        {
          "output_type": "stream",
          "name": "stdout",
          "text": [
            "10/10 [==============================] - 0s 2ms/step\n",
            "MSE: 0.012966\n"
          ]
        }
      ]
    },
    {
      "cell_type": "markdown",
      "source": [
        "График"
      ],
      "metadata": {
        "id": "qYuLBpvLL51c"
      }
    },
    {
      "cell_type": "code",
      "source": [
        "loss_function = regres_model_hist.history['loss']\n",
        "val_loss_function = regres_model_hist.history['val_loss']\n",
        "\n",
        "epochs = range(1,epochs+1)\n",
        "\n",
        "plt.figure(figsize=(10,5))\n",
        "plt.title('Потери на обучающей и валидационной выборках')\n",
        "plt.plot(epochs,loss_function,color='blue',label='Ошибка обучения (MSE)')\n",
        "plt.plot(epochs,val_loss_function,color='red',label='Ошибка валидации (MSE)')\n",
        "plt.xlabel('Эпоха')\n",
        "plt.ylabel('Ошибка модели (MSE)')\n",
        "plt.legend()\n",
        "plt.show()"
      ],
      "metadata": {
        "colab": {
          "base_uri": "https://localhost:8080/",
          "height": 350
        },
        "id": "GpoBslU_Kx-u",
        "outputId": "cd462018-9cc5-4810-9f50-cfd3b454851c"
      },
      "execution_count": null,
      "outputs": [
        {
          "output_type": "display_data",
          "data": {
            "text/plain": [
              "<Figure size 720x360 with 1 Axes>"
            ],
            "image/png": "[encoded data removed]"
          },
          "metadata": {
            "needs_background": "light"
          }
        }
      ]
    },
    {
      "cell_type": "markdown",
      "source": [
        "# Sklearn"
      ],
      "metadata": {
        "id": "Z8izzyVfEgKB"
      }
    },
    {
      "cell_type": "code",
      "source": [
        "import lightgbm as lgb\n",
        "\n",
        "frac_lgb = lgb.LGBMRegressor(iterations=100, verbose=10, random_state=42)\n",
        "\n",
        "frac_lgb.fit(X_train,y_train)\n",
        "\n",
        "y_pred_lgbm = frac_lgb.predict(X_test)\n",
        "\n",
        "mse = mean_squared_error(y_test, y_pred_lgbm)\n",
        "\n",
        "print(\"MSE: %f\" % (mse))"
      ],
      "metadata": {
        "colab": {
          "base_uri": "https://localhost:8080/"
        },
        "id": "60NpQiyBEfUS",
        "outputId": "4f848640-8720-44ec-8b86-048e185fe738"
      },
      "execution_count": null,
      "outputs": [
        {
          "output_type": "stream",
          "name": "stdout",
          "text": [
            "MSE: 0.008432\n"
          ]
        }
      ]
    }
  ]
}